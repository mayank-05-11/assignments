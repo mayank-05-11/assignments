{
 "cells": [
  {
   "cell_type": "markdown",
   "metadata": {},
   "source": [
    "# Assignment_2"
   ]
  },
  {
   "cell_type": "code",
   "execution_count": 1,
   "metadata": {},
   "outputs": [
    {
     "data": {
      "text/plain": [
       "\"\\n1. What are the Boolean data type's two values? How do you go about writing them?\\n\\n   The two Boolean data types values are: \\n   i)  True\\n   ii) False\\n   \\n2. What are the three different types of Boolean operators?   \\n\\n   The three basic boolean operators are: AND, OR, and NOT.\\n   \\n3. Make a list of each Boolean operator's truth tables \\n   (i.e. every possible combination of Boolean values for the operator and what it evaluate ).\\n\\n   AND Boolean operator               OR Boolean opearator               NOT Boolean operator   \\n   \\n   input       output                 input       output                 input       output \\n   a   b       a AND b                a   b       a OR b                   a         NOT a \\n   \\n   0   0          0                   0   0          0                     0           1\\n   0   1          0                   0   1          1                     1           0\\n   1   0          0                   1   0          1\\n   1   1          1                   1   1          1\\n\\n4. What are the values of the following expressions?\\n\\n    (5 > 4) and (3 == 5)\\n    not (5 > 4)\\n    (5 > 4) or (3 == 5)\\n    not ((5 > 4) or (3 == 5))\\n    (True and True) and (True == False)\\n    (not False) or (not True)\\n\\n\\n\\n\\n\\n\""
      ]
     },
     "execution_count": 1,
     "metadata": {},
     "output_type": "execute_result"
    }
   ],
   "source": [
    "'''\n",
    "1. What are the Boolean data type's two values? How do you go about writing them?\n",
    "\n",
    "   The two Boolean data types values are: \n",
    "   i)  True\n",
    "   ii) False\n",
    "   \n",
    "2. What are the three different types of Boolean operators?   \n",
    "\n",
    "   The three basic boolean operators are: AND, OR, and NOT.\n",
    "   \n",
    "3. Make a list of each Boolean operator's truth tables \n",
    "   (i.e. every possible combination of Boolean values for the operator and what it evaluate ).\n",
    "\n",
    "   AND Boolean operator               OR Boolean opearator               NOT Boolean operator   \n",
    "   \n",
    "   input       output                 input       output                 input       output \n",
    "   a   b       a AND b                a   b       a OR b                   a         NOT a \n",
    "   \n",
    "   0   0          0                   0   0          0                     0           1\n",
    "   0   1          0                   0   1          1                     1           0\n",
    "   1   0          0                   1   0          1\n",
    "   1   1          1                   1   1          1\n",
    "\n",
    "4. What are the values of the following expressions?\n",
    "\n",
    "    (5 > 4) and (3 == 5)                     False\n",
    "    not (5 > 4)                              False\n",
    "    (5 > 4) or (3 == 5)                      True\n",
    "    not ((5 > 4) or (3 == 5))                False\n",
    "    (True and True) and (True == False)      False\n",
    "    (not False) or (not True)                True\n",
    "\n",
    "5. What are the six different types of reference operators?\n",
    "\n",
    "6. How do you tell the difference between the equal to and assignment operators?\n",
    "\n",
    "   The “=” is an assignment operator is used to assign the value on the right to the variable on the left.\n",
    "   For example: a = 10\n",
    "   \n",
    "   The ‘==’ operator checks whether the two given operands are equal or not. If so, it returns true. Otherwise it returns false.\n",
    "   For example: 5==5\n",
    "   This will return true.\n",
    "   \n",
    "7. Describe a condition and when you would use one.\n",
    "\n",
    "8. Recognize the following three blocks in this code:\n",
    "\n",
    "spam = 0\n",
    "if spam == 10:\n",
    "    print('eggs')\n",
    "    if spam > 5:\n",
    "        print('bacon')\n",
    "    else:\n",
    "        print('ham')\n",
    "    print('spam')\n",
    "print('spam')\n",
    "\n",
    "output: spam\n",
    "\n",
    "'''\n"
   ]
  },
  {
   "cell_type": "code",
   "execution_count": 16,
   "metadata": {},
   "outputs": [
    {
     "name": "stdout",
     "output_type": "stream",
     "text": [
      "enter a no. 4\n",
      "nothing\n",
      "range(0, 10)\n"
     ]
    }
   ],
   "source": [
    "'''9. Create a programme that prints. If 1 is stored in spam, prints Hello; if 2 is stored in spam, prints Howdy; \n",
    "      and if 3 is stored in spam, prints Salutations! if there's something else in spam.'''\n",
    "\n",
    "spam=int(input(\"enter a no. \"))\n",
    "if spam == 1:\n",
    "    print(\"Hello\")\n",
    "\n",
    "elif spam == 2:\n",
    "    print(\"Howdy\")\n",
    "\n",
    "elif spam == 3:\n",
    "    print(\"Salutations!\")\n",
    "    \n",
    "else:\n",
    "    print(\"nothing\")"
   ]
  },
  {
   "cell_type": "code",
   "execution_count": 20,
   "metadata": {},
   "outputs": [
    {
     "data": {
      "text/plain": [
       "'\\n10. If your programme is stuck in an endless loop, what keys can you press?\\n\\n11. How can you tell the difference between break and continue?\\n\\n    A break statement, when used inside the loop, will terminate the loop and exit. If used inside nested loops, \\n    it will break out from the current loop.\\n    \\n    A continue statement will stop the current execution when used inside a loop, \\n    and the control will go back to the start of the loop or proceed with the next iteration.\\n    \\n12. In a for loop, what is the difference between range(10), range(0, 10), and range(0, 10, 1)? \\n\\n    logically there is no difference between range(10), range(0,10) and range(0,10,1)\\n    \\n'"
      ]
     },
     "execution_count": 20,
     "metadata": {},
     "output_type": "execute_result"
    }
   ],
   "source": [
    "'''\n",
    "10. If your programme is stuck in an endless loop, what keys can you press?\n",
    "\n",
    "11. How can you tell the difference between break and continue?\n",
    "\n",
    "    A break statement, when used inside the loop, will terminate the loop and exit. If used inside nested loops, \n",
    "    it will break out from the current loop.\n",
    "    \n",
    "    A continue statement will stop the current execution when used inside a loop, \n",
    "    and the control will go back to the start of the loop or proceed with the next iteration.\n",
    "    \n",
    "12. In a for loop, what is the difference between range(10), range(0, 10), and range(0, 10, 1)? \n",
    "\n",
    "    logically there is no difference between range(10), range(0,10) and range(0,10,1) in for loop\n",
    "    because the initial value by default compiler takes 0 if the initial value is defined or not and \n",
    "    also step value is by default takes 1 compiler if the value is not defined by programmer in range(10) and range(0,10).\n",
    "    range(0,10,1) here the initial value and step value is defined so the for loop executes 10 times whether in case of \n",
    "    range(10) or range(0,10) or range(0,10,1)\n",
    "    \n",
    "'''"
   ]
  },
  {
   "cell_type": "code",
   "execution_count": 21,
   "metadata": {},
   "outputs": [
    {
     "name": "stdout",
     "output_type": "stream",
     "text": [
      "1 2 3 4 5 6 7 8 9 10 "
     ]
    }
   ],
   "source": [
    "'''\n",
    "13. Using a for loop, write a short programme that prints the numbers 1 to 10 Then, \n",
    "    using a while loop, create an identical programme that prints the numbers 1 to 10.\n",
    "'''\n",
    "#using for loop that print numbers 1 to 10\n",
    "for i in range(1,11,1):\n",
    "    print(i,end=\" \")"
   ]
  },
  {
   "cell_type": "code",
   "execution_count": 25,
   "metadata": {},
   "outputs": [
    {
     "name": "stdout",
     "output_type": "stream",
     "text": [
      "1 2 3 4 5 6 7 8 9 10 "
     ]
    }
   ],
   "source": [
    "#using while loop to print numbers 1 to 10\n",
    "i=1\n",
    "while(i<11):\n",
    "    print(i,end=\" \")\n",
    "    i+=1 "
   ]
  },
  {
   "cell_type": "code",
   "execution_count": null,
   "metadata": {},
   "outputs": [],
   "source": [
    "'''\n",
    "14. If you had a bacon() function within a spam module, what would you call it after importing spam?\n",
    "\n",
    "'''"
   ]
  }
 ],
 "metadata": {
  "kernelspec": {
   "display_name": "Python 3",
   "language": "python",
   "name": "python3"
  },
  "language_info": {
   "codemirror_mode": {
    "name": "ipython",
    "version": 3
   },
   "file_extension": ".py",
   "mimetype": "text/x-python",
   "name": "python",
   "nbconvert_exporter": "python",
   "pygments_lexer": "ipython3",
   "version": "3.8.5"
  }
 },
 "nbformat": 4,
 "nbformat_minor": 4
}
