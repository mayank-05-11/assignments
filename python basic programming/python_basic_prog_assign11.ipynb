{
 "cells": [
  {
   "cell_type": "markdown",
   "metadata": {},
   "source": [
    "# Basic Programming in Python"
   ]
  },
  {
   "cell_type": "code",
   "execution_count": 3,
   "metadata": {},
   "outputs": [
    {
     "name": "stdout",
     "output_type": "stream",
     "text": [
      "['Mayank', 'Agarwal']\n"
     ]
    }
   ],
   "source": [
    "# 1. Write a Python program to find words which are greater than given length k?\n",
    "\n",
    "def string_k(k, str):\n",
    "      \n",
    "    string = []\n",
    "      \n",
    "    # split the string where space is comes\n",
    "    text = str.split(\" \")\n",
    "      \n",
    "    # iterate the loop till every substring\n",
    "    for x in text:\n",
    "          \n",
    "        # if length of current sub string is greater than k then\n",
    "        if len(x) > k:\n",
    "              \n",
    "            # append this sub string in string list\n",
    "            string.append(x)\n",
    "              \n",
    "     # return string list\n",
    "    return string\n",
    "      \n",
    "print(string_k(5, \"My name is Mayank Agarwal\"))"
   ]
  },
  {
   "cell_type": "code",
   "execution_count": 10,
   "metadata": {},
   "outputs": [
    {
     "name": "stdout",
     "output_type": "stream",
     "text": [
      "Original string: Engineering\n",
      "String after removal of i-th character: Enginering\n"
     ]
    }
   ],
   "source": [
    "# 2. Write a Python program for removing i-th character from a string?\n",
    "\n",
    "str = \"Engineering\"\n",
    "   \n",
    "print (\"Original string: \" + str) \n",
    "   \n",
    "# Removing char at pos 3 using slice + concatenation \n",
    "res_str = str[:5] + str[6:] \n",
    "   \n",
    "print (\"String after removal of i-th character: \" + res_str) \n"
   ]
  },
  {
   "cell_type": "code",
   "execution_count": 26,
   "metadata": {},
   "outputs": [
    {
     "name": "stdout",
     "output_type": "stream",
     "text": [
      "['this', 'is', 'a', 'string']\n",
      "this_is_a_string\n"
     ]
    }
   ],
   "source": [
    "# 3. Write a Python program to split and join a string?\n",
    "\n",
    "a = \"this is a string\"\n",
    "a = a.split(\" \") # a is converted to a list of strings. \n",
    "print(a)\n",
    "\n",
    "a = \"_\".join(a)\n",
    "print(a)\n",
    " "
   ]
  },
  {
   "cell_type": "code",
   "execution_count": 29,
   "metadata": {},
   "outputs": [
    {
     "name": "stdout",
     "output_type": "stream",
     "text": [
      "0110101010111 is a binary string.\n",
      "0120101010111 not a binary string.\n"
     ]
    }
   ],
   "source": [
    "# 4. Write a Python to check if a given string is binary string or not?\n",
    "\n",
    "def is_string_binary(str_a):\n",
    "    b = {'0','1'}\n",
    "    t = set(str_a)\n",
    "\n",
    "    if b == t or t == {'0'} or t == {'1'}:\n",
    "        print(\"{} is a binary string.\".format(str_a))\n",
    "    else:\n",
    "        print(\"{} not a binary string.\".format(str_a))\n",
    "\n",
    "string_A = '0110101010111'\n",
    "is_string_binary(string_A)\n",
    "\n",
    "string_B = '0120101010111'\n",
    "is_string_binary(string_B)"
   ]
  },
  {
   "cell_type": "code",
   "execution_count": 61,
   "metadata": {},
   "outputs": [
    {
     "name": "stdout",
     "output_type": "stream",
     "text": [
      "i) Python is a prog lang  ii) Python is easy to learn \n",
      "The uncommon words in strings are: ['a', 'prog', 'lang', 'easy', 'to', 'learn']\n"
     ]
    }
   ],
   "source": [
    "# 5. Write a Python program to find uncommon words from two Strings?\n",
    "\n",
    "def find(A, B):\n",
    "   # count\n",
    "   count = {}\n",
    "   # insert in A\n",
    "   for word in A.split():\n",
    "      count[word] = count.get(word, 0) + 1\n",
    "   \n",
    "    # insert in B\n",
    "   for word in B.split():\n",
    "      count[word] = count.get(word, 0) + 1\n",
    "   \n",
    "    # return ans\n",
    "   return [word for word in count if count[word] == 1]\n",
    "\n",
    "A = \"Python is a prog lang \"\n",
    "B = \"Python is easy to learn \"\n",
    "print(\"i) \"+A, \"ii) \"+B)\n",
    "print(\"The uncommon words in strings are:\",find(A, B))"
   ]
  },
  {
   "cell_type": "code",
   "execution_count": 54,
   "metadata": {},
   "outputs": [
    {
     "name": "stdout",
     "output_type": "stream",
     "text": [
      "I am Mayank Agarwal student of MCA\n",
      "Duplicates character in string: [' ', 'a', 'M', 'n', 'A', 't']\n"
     ]
    }
   ],
   "source": [
    "# 6. Write a Python to find all duplicate characters in string?\n",
    "\n",
    "# initializing string\n",
    "string = \"I am Mayank Agarwal student of MCA\"\n",
    "# initializing a list to append all the duplicate characters\n",
    "duplicates = []\n",
    "for char in string:\n",
    "   # checking whether the character have a duplicate or not\n",
    "   if string.count(char) > 1:\n",
    "   # appending to the list if it's already not present\n",
    "       if char not in duplicates:\n",
    "           duplicates.append(char)\n",
    "print(string)\n",
    "print(\"Duplicates character in string:\",duplicates)"
   ]
  },
  {
   "cell_type": "code",
   "execution_count": 58,
   "metadata": {},
   "outputs": [
    {
     "name": "stdout",
     "output_type": "stream",
     "text": [
      "hey there! what's up?\n",
      "special character exist\n"
     ]
    }
   ],
   "source": [
    "# 7. Write a Python Program to check if a string contains any special character?\n",
    "\n",
    "import string\n",
    "\n",
    "# special characters\n",
    "special_chars = string.punctuation\n",
    "\n",
    "# initializing a string\n",
    "string_1 = \"hey there! what's up?\"\n",
    "\n",
    "# checking the special chars in the string_1\n",
    "bools = list(map(lambda char: char in special_chars, string_1))\n",
    "\n",
    "print(string_1)\n",
    "print(\"special character exist\") if any(bools) else print(\"not exist\")\n",
    "\n"
   ]
  },
  {
   "cell_type": "code",
   "execution_count": null,
   "metadata": {},
   "outputs": [],
   "source": []
  }
 ],
 "metadata": {
  "kernelspec": {
   "display_name": "Python 3",
   "language": "python",
   "name": "python3"
  },
  "language_info": {
   "codemirror_mode": {
    "name": "ipython",
    "version": 3
   },
   "file_extension": ".py",
   "mimetype": "text/x-python",
   "name": "python",
   "nbconvert_exporter": "python",
   "pygments_lexer": "ipython3",
   "version": "3.8.5"
  }
 },
 "nbformat": 4,
 "nbformat_minor": 4
}
