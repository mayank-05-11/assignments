{
 "cells": [
  {
   "cell_type": "markdown",
   "metadata": {},
   "source": [
    "# Basic Programming in Python"
   ]
  },
  {
   "cell_type": "code",
   "execution_count": null,
   "metadata": {},
   "outputs": [],
   "source": [
    "'''1: Define a class with a generator which can iterate the numbers, which are divisible by\n",
    "7, between a given range 0 and n.\n",
    "'''\n",
    "\n",
    "class cls:\n",
    "\n",
    "    def itr(a,num):\n",
    "        for i in range(num):\n",
    "            if i%7==0:\n",
    "                yield i\n",
    "obj = cls()\n",
    "for i in obj.itr(40):\n",
    "    print(i)"
   ]
  },
  {
   "cell_type": "code",
   "execution_count": 13,
   "metadata": {},
   "outputs": [
    {
     "name": "stdout",
     "output_type": "stream",
     "text": [
      "2:2\n",
      "3:1\n",
      "3?:1\n",
      "New:1\n",
      "Python:5\n",
      "Read:1\n",
      "and:1\n",
      "between:1\n",
      "choosing:1\n",
      "or:2\n",
      "to:1\n"
     ]
    }
   ],
   "source": [
    "'''2. Write a program to compute the frequency of the words from the input. The output\n",
    "should output after sorting the key alphanumerically.\n",
    "Suppose the following input is supplied to the program:\n",
    "New to Python or choosing between Python 2 and Python 3? Read Python 2 or\n",
    "Python 3.\n",
    "Then, the output should be:\n",
    "2:2\n",
    "3:1\n",
    "3?:1\n",
    "New:1\n",
    "Python:5\n",
    "Read:1\n",
    "and:1\n",
    "between:1\n",
    "choosing:1\n",
    "or:2\n",
    "to:1\n",
    "'''\n",
    "\n",
    "st=\"New to Python or choosing between Python 2 and Python 3? Read Python 2 or Python 3\"\n",
    "st=sorted(st.split())\n",
    "unique=[]\n",
    "for i in st:\n",
    "    if i not in unique:\n",
    "        unique.append(i)\n",
    "for i in range(len(unique)):\n",
    "    print(unique[i],\":\",st.count(unique[i]),sep=\"\")"
   ]
  },
  {
   "cell_type": "code",
   "execution_count": 22,
   "metadata": {},
   "outputs": [
    {
     "name": "stdout",
     "output_type": "stream",
     "text": [
      "perosn is male\n"
     ]
    }
   ],
   "source": [
    "'''3. Define a class Person and its two child classes: Male and Female. \n",
    "All classes have a method \"getGender\" which can print \"Male\" for Male class and \"Female\" for Female class.\n",
    "'''\n",
    "class person:\n",
    "    def getGen():\n",
    "        return \"perosn is \"\n",
    "class male(person):\n",
    "    def getGender(gender):\n",
    "            return 'male'\n",
    "class female(person):\n",
    "    def getGender(gender):\n",
    "            return 'female'\n",
    "obj1 = male\n",
    "obj2 = female\n",
    "print(obj1.getGen() + obj1.getGender(\"male\"))\n"
   ]
  },
  {
   "cell_type": "code",
   "execution_count": 28,
   "metadata": {},
   "outputs": [
    {
     "name": "stdout",
     "output_type": "stream",
     "text": [
      "i play hockey\n",
      "i play football\n",
      "i love hockey\n",
      "i love football\n",
      "you play hockey\n",
      "you play football\n",
      "you love hockey\n",
      "you love football\n"
     ]
    }
   ],
   "source": [
    "''' 4. Please write a program to generate all sentences where subject is in \n",
    "[\"I\", \"You\"] and verb is in [\"Play\", \"Love\"] and the object is in [\"Hockey\",\"Football\"].\n",
    "'''\n",
    "sub=[\"i\",\"you\"]\n",
    "verb=[\"play\",\"love\"]\n",
    "obj=[\"hockey\",\"football\"]\n",
    "for i in range(len(sub)):\n",
    "    for j in range(len(verb)):\n",
    "        for k in range(len(obj)):\n",
    "            sent=\"%s %s %s\"%(sub[i],verb[j],obj[k])\n",
    "            print(sent)\n"
   ]
  },
  {
   "cell_type": "code",
   "execution_count": 36,
   "metadata": {},
   "outputs": [
    {
     "name": "stdout",
     "output_type": "stream",
     "text": [
      "Compressed:  b'x\\x9c\\xf3H\\xcd\\xc9\\xc9W(\\xcf/\\xcaIQ\\x04\\x00\\x1d\\t\\x04^'\n",
      "Decompressed:  b'Hello world!'\n"
     ]
    }
   ],
   "source": [
    "'''\n",
    "5. Please write a program to compress and decompress the string \"hello world!hello world!hello world!hello world!\".\n",
    "'''\n",
    "import zlib\n",
    "text= b\"Hello world!\"\n",
    "comp=zlib.compress(text)\n",
    "print(\"Compressed: \", comp)\n",
    "decomp=zlib.decompress(comp)\n",
    "print(\"Decompressed: \", decomp)"
   ]
  },
  {
   "cell_type": "code",
   "execution_count": 37,
   "metadata": {},
   "outputs": [
    {
     "name": "stdout",
     "output_type": "stream",
     "text": [
      "the index of grapes in the list is:  3\n"
     ]
    }
   ],
   "source": [
    "'''6. Please write a binary search function which searches an item in a sorted list. The\n",
    "function should return the index of element to be searched in the list.\n",
    "'''\n",
    "def b_search(name):\n",
    "    l=[\"apple\",\"banana\",\"manggo\",\"grapes\",\"papaya\",\"watermelon\"]\n",
    "    sorted(l)\n",
    "    for i in l:\n",
    "        if i==name:\n",
    "            print(\"the index of \"+i+ \" in the list is: \",l.index(i))\n",
    "            break\n",
    "    if i!=name:\n",
    "        print(\"no item found\")\n",
    "             \n",
    "b_search(\"grapes\")"
   ]
  },
  {
   "cell_type": "code",
   "execution_count": null,
   "metadata": {},
   "outputs": [],
   "source": []
  }
 ],
 "metadata": {
  "kernelspec": {
   "display_name": "Python 3",
   "language": "python",
   "name": "python3"
  },
  "language_info": {
   "codemirror_mode": {
    "name": "ipython",
    "version": 3
   },
   "file_extension": ".py",
   "mimetype": "text/x-python",
   "name": "python",
   "nbconvert_exporter": "python",
   "pygments_lexer": "ipython3",
   "version": "3.8.5"
  }
 },
 "nbformat": 4,
 "nbformat_minor": 4
}
