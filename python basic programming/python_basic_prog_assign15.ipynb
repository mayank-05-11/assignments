{
 "cells": [
  {
   "cell_type": "markdown",
   "metadata": {},
   "source": [
    "# Basic Programming in Python"
   ]
  },
  {
   "cell_type": "code",
   "execution_count": 2,
   "metadata": {},
   "outputs": [
    {
     "name": "stdout",
     "output_type": "stream",
     "text": [
      "0,35,70\n"
     ]
    }
   ],
   "source": [
    "'''\n",
    "Question 1:\n",
    "Please write a program using generator to print the numbers which can be divisible by 5 and\n",
    "7 between 0 and n in comma separated form while n is input by console.\n",
    "'''\n",
    "def funcn(num):\n",
    "    l=[]\n",
    "    for i in range(0,num):\n",
    "        if i%7==0 and i%5==0:\n",
    "            l.append(i)\n",
    "    yield l\n",
    "\n",
    "for i in funcn(100):\n",
    "    print(*i,sep=\",\")"
   ]
  },
  {
   "cell_type": "code",
   "execution_count": 8,
   "metadata": {},
   "outputs": [
    {
     "name": "stdout",
     "output_type": "stream",
     "text": [
      "0,2,4,6,8,10\n"
     ]
    }
   ],
   "source": [
    "'''2. Please write a program using generator to print the even numbers between 0 and n in comma\n",
    "separated form while n is input by console.\n",
    "Example:\n",
    "If the following n is given as input to the program:\n",
    "10\n",
    "Then, the output of the program should be:\n",
    "0,2,4,6,8,10\n",
    "'''\n",
    "def even(n):\n",
    "    l=[]\n",
    "    for i in range(0,n+1):\n",
    "        if i%2==0:\n",
    "            l.append(i)\n",
    "    yield l\n",
    "\n",
    "for i in even(10):\n",
    "    print(*i,sep=\",\")"
   ]
  },
  {
   "cell_type": "code",
   "execution_count": 53,
   "metadata": {},
   "outputs": [
    {
     "name": "stdout",
     "output_type": "stream",
     "text": [
      "0,1,1,2,3,5,8,13\n"
     ]
    }
   ],
   "source": [
    "'''\n",
    "Question 3:\n",
    "The Fibonacci Sequence is computed based on the following formula:\n",
    "f(n)=0 if n=0\n",
    "f(n)=1 if n=1\n",
    "f(n)=f(n-1)+f(n-2) if n&gt;1\n",
    "Please write a program using list comprehension to print the Fibonacci Sequence in comma\n",
    "separated form with a given n input by console.\n",
    "Example:\n",
    "If the following n is given as input to the program:\n",
    "7\n",
    "Then, the output of the program should be:\n",
    "0,1,1,2,3,5,8,13\n",
    "'''\n",
    "\n",
    "l = [0,1]\n",
    "[l.append(l[-1] + l[-2]) for n in range(6)]\n",
    "print(*l,sep=\",\")\n",
    "\n",
    "    "
   ]
  },
  {
   "cell_type": "code",
   "execution_count": 34,
   "metadata": {},
   "outputs": [
    {
     "name": "stdout",
     "output_type": "stream",
     "text": [
      "john@google.com\n",
      "john\n"
     ]
    }
   ],
   "source": [
    "'''4. Assuming that we have some email addresses in the &quot;username@companyname.com&quot; format,\n",
    "please write program to print the user name of a given email address. Both user names and\n",
    "company names are composed of letters only.\n",
    "Example:\n",
    "If the following email address is given as input to the program:\n",
    "john@google.com\n",
    "Then, the output of the program should be:\n",
    "john\n",
    "'''\n",
    "st=input()\n",
    "l=[]\n",
    "for i in st:\n",
    "    if i==\"@\":\n",
    "        break\n",
    "    else:\n",
    "        l.append(i)\n",
    "print(*l,sep=\"\")"
   ]
  },
  {
   "cell_type": "code",
   "execution_count": 71,
   "metadata": {},
   "outputs": [
    {
     "name": "stdout",
     "output_type": "stream",
     "text": [
      "9\n"
     ]
    }
   ],
   "source": [
    "'''5. Define a class named Shape and its subclass Square. \n",
    "The Square class has an init function which takes a length as argument. \n",
    "Both classes have a area function which can print the area of the shape where Shape's area is 0 by default.\n",
    "\n",
    "'''\n",
    "\n",
    "class Shape:\n",
    "    def area():\n",
    "        return 0\n",
    "class Square(shape):\n",
    "    def __init__(self,length):\n",
    "        self.length=length\n",
    "    def area(self):\n",
    "        return self.length*self.length\n",
    "obj=square(3)\n",
    "print(obj.area())"
   ]
  },
  {
   "cell_type": "code",
   "execution_count": null,
   "metadata": {},
   "outputs": [],
   "source": []
  }
 ],
 "metadata": {
  "kernelspec": {
   "display_name": "Python 3",
   "language": "python",
   "name": "python3"
  },
  "language_info": {
   "codemirror_mode": {
    "name": "ipython",
    "version": 3
   },
   "file_extension": ".py",
   "mimetype": "text/x-python",
   "name": "python",
   "nbconvert_exporter": "python",
   "pygments_lexer": "ipython3",
   "version": "3.8.5"
  }
 },
 "nbformat": 4,
 "nbformat_minor": 4
}
