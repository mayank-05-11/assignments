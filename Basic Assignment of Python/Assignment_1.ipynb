{
 "cells": [
  {
   "cell_type": "markdown",
   "metadata": {},
   "source": [
    "# Assignment_1"
   ]
  },
  {
   "cell_type": "code",
   "execution_count": 1,
   "metadata": {},
   "outputs": [
    {
     "data": {
      "text/plain": [
       "\"1. What are the differences between operators and values in the following?\\n\\ni)    *         it is a multiplication operator.\\nii)   'hello'   it is a value of string type.\\niii)  -87.8     it is a negation value of float type.\\niv)   -         it is a subtraction operator.\\nv)    /         it is a division operator.\\nvi)   +         it is an addition operator.\\nvii)  6         it is a value of integer type.\\n\\nOperators - An operator in a programming language is a symbol that tells the compiler or interpreter \\n            to perform specific mathematical.\\n            \\nValues - In mathematics, logic, and computer programming, a value is a definite object. For example, the number 1, \\n         the letter a, and the unique combination of letters that forms the word apple are all values.\\n         In a computers, a value is usually a number, a single character, or a string of characters.\\n\""
      ]
     },
     "execution_count": 1,
     "metadata": {},
     "output_type": "execute_result"
    }
   ],
   "source": [
    "'''1. What are the differences between operators and values in the following?\n",
    "\n",
    "i)    *         it is a multiplication operator.\n",
    "ii)   'hello'   it is a value of string type.\n",
    "iii)  -87.8     it is a negation value of float type.\n",
    "iv)   -         it is a subtraction operator.\n",
    "v)    /         it is a division operator.\n",
    "vi)   +         it is an addition operator.\n",
    "vii)  6         it is a value of integer type.\n",
    "\n",
    "Operators - An operator in a programming language is a symbol that tells the compiler or interpreter \n",
    "            to perform specific mathematical.\n",
    "            \n",
    "Values - In mathematics, logic, and computer programming, a value is a definite object. For example, the number 1, \n",
    "         the letter a, and the unique combination of letters that forms the word apple are all values.\n",
    "         In a computers, a value is usually a number, a single character, or a string of characters.\n",
    "       \n",
    "   2. What is the difference between string and variable?\n",
    "\n",
    "i)    spam    it is a variable\n",
    "ii)  'spam'   it is a string\n",
    "\n",
    "Variable - Variables are data values that can change when the user is asked a question, for example, their age. \n",
    "           Variables may change during program execution. A variable is a memory location. \n",
    "           It has a name that is associated with that location. The memory location is used to hold data.\n",
    "\n",
    "String - A string is a data type used in programming, such as an integer and floating point unit, \n",
    "         but is used to represent text rather than numbers. It is comprised of a set of characters or sequence of characters \n",
    "         that can also contain spaces and numbers. \n",
    "         For example, the word \"hamburger\" and the phrase \"I ate 3 hamburgers\" are both strings.\n",
    "         \n",
    "   3. Describe three different data forms.\n",
    "\n",
    "i) integers - This value is represented by int class. It contains positive or negative whole numbers \n",
    "              (without fraction or decimal). In Python there is no limit to how long an integer value can be.\n",
    "              \n",
    "ii) string - A string is a data type used in programming, such as an integer and floating point unit, \n",
    "             but is used to represent text rather than numbers. It is comprised of a set of characters or sequence of characters \n",
    "             that can also contain spaces and numbers. \n",
    "             For example, the word \"hamburger\" and the phrase \"I ate 3 hamburgers\" are both strings.\n",
    "         \n",
    "iii) boolean - Data type with one of the two built-in values, True or False. \n",
    "               True and False with capital ‘T’ and ‘F’ are valid booleans.\n",
    "               Boolean objects that are equal to True are true, and those equal to False are false. \n",
    "               It is denoted by the class bool.        \n",
    "\n",
    "   4. What makes up an expression? What are the functions of all expressions?\n",
    "\n",
    "      Python expressions only contain identifiers, literals, and operators.\n",
    "      Or in other words an expression is made up of variables, operators, and method invocations,\n",
    "      which are constructed according to the syntax of the language, that evaluates to a single value.\n",
    "\n",
    "\n",
    "   5. In this chapter, assignment statements such as spam = 10 were added. \n",
    "      What's the difference between a declaration and an expression?\n",
    "      \n",
    "      Declaration:\n",
    "      Python has no command for declaring a variable. A variable is created the moment you first assign a value to it.\n",
    "      Variables do not need to be declared with any particular type, and can even change type after they have been set.\n",
    "\n",
    "      Expression:\n",
    "      Expressions are representations of value. They are different from statement in the fact that statements do something \n",
    "      while expressions are representation of value. \n",
    "      For example any string is also an expressions since it represents the value of the string as well.\n",
    "\n",
    "   6. After running the following code, what does the variable bacon contain?\n",
    "      \n",
    "      bacon = 22\n",
    "      bacon + 1\n",
    "      the variable bacon contains 23\n",
    "\n",
    "   7. What should the values of the following two terms be?\n",
    "\n",
    "       'spam' + 'spamspam'\n",
    "       'spam' * 3\n",
    "        spamspamspam\n",
    "        \n",
    "   8. Why is it that eggs is a true variable name but 100 is not?\n",
    "\n",
    "      Rules for Python variables:\n",
    "      \n",
    "      A variable name must start with a letter or the underscore character\n",
    "      A variable name cannot start with a number\n",
    "      A variable name can only contain alpha-numeric characters and underscores (A-z, 0-9, and _ )\n",
    "      Variable names are case-sensitive (age, Age and AGE are three different variables)\n",
    "      \n",
    "   9. Which of the following three functions may be used to convert a value to an integer, a floating-point number, or a string?\n",
    "      \n",
    "      int()\n",
    "      float()\n",
    "      str()\n",
    "      \n",
    "   10. What is the error caused by this expression? What would you do about it?\n",
    "   \n",
    "       'I have eaten ' + 99 + ' burritos.'\n",
    "        TypeError: can only concatenate str (not \"int\") to str\n",
    "        \n",
    "       'I have eaten ' + str(99) + ' burritos.'\n",
    "        here we do type casting from int to string type to concatenate the whole string\n",
    "\n",
    "'''"
   ]
  },
  {
   "cell_type": "code",
   "execution_count": 2,
   "metadata": {},
   "outputs": [
    {
     "data": {
      "text/plain": [
       "23"
      ]
     },
     "execution_count": 2,
     "metadata": {},
     "output_type": "execute_result"
    }
   ],
   "source": [
    "bacon=22\n",
    "bacon+1"
   ]
  },
  {
   "cell_type": "code",
   "execution_count": 4,
   "metadata": {},
   "outputs": [
    {
     "data": {
      "text/plain": [
       "'spamspamspam'"
      ]
     },
     "execution_count": 4,
     "metadata": {},
     "output_type": "execute_result"
    }
   ],
   "source": [
    "'spam' + 'spamspam'\n",
    "'spam' * 3\n"
   ]
  },
  {
   "cell_type": "code",
   "execution_count": 5,
   "metadata": {},
   "outputs": [
    {
     "ename": "TypeError",
     "evalue": "can only concatenate str (not \"int\") to str",
     "output_type": "error",
     "traceback": [
      "\u001b[1;31m---------------------------------------------------------------------------\u001b[0m",
      "\u001b[1;31mTypeError\u001b[0m                                 Traceback (most recent call last)",
      "\u001b[1;32m<ipython-input-5-d24137131a5c>\u001b[0m in \u001b[0;36m<module>\u001b[1;34m\u001b[0m\n\u001b[1;32m----> 1\u001b[1;33m \u001b[1;34m'I have eaten '\u001b[0m \u001b[1;33m+\u001b[0m \u001b[1;36m99\u001b[0m \u001b[1;33m+\u001b[0m \u001b[1;34m' burritos.'\u001b[0m\u001b[1;33m\u001b[0m\u001b[1;33m\u001b[0m\u001b[0m\n\u001b[0m",
      "\u001b[1;31mTypeError\u001b[0m: can only concatenate str (not \"int\") to str"
     ]
    }
   ],
   "source": [
    "'I have eaten ' + 99 + ' burritos.'"
   ]
  },
  {
   "cell_type": "code",
   "execution_count": 6,
   "metadata": {},
   "outputs": [
    {
     "data": {
      "text/plain": [
       "'I have eaten 99 burritos.'"
      ]
     },
     "execution_count": 6,
     "metadata": {},
     "output_type": "execute_result"
    }
   ],
   "source": [
    "'I have eaten ' + str(99) + ' burritos.'"
   ]
  },
  {
   "cell_type": "code",
   "execution_count": null,
   "metadata": {},
   "outputs": [],
   "source": []
  },
  {
   "cell_type": "code",
   "execution_count": null,
   "metadata": {},
   "outputs": [],
   "source": []
  }
 ],
 "metadata": {
  "kernelspec": {
   "display_name": "Python 3",
   "language": "python",
   "name": "python3"
  },
  "language_info": {
   "codemirror_mode": {
    "name": "ipython",
    "version": 3
   },
   "file_extension": ".py",
   "mimetype": "text/x-python",
   "name": "python",
   "nbconvert_exporter": "python",
   "pygments_lexer": "ipython3",
   "version": "3.8.5"
  }
 },
 "nbformat": 4,
 "nbformat_minor": 4
}
