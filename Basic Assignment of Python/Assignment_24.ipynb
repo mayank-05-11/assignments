{
 "cells": [
  {
   "cell_type": "code",
   "execution_count": null,
   "metadata": {},
   "outputs": [],
   "source": [
    "#1. What is the relationship between def statements and lambda expressions ?\n",
    "\n",
    "#both performs some task as per requirements. def decalres a regular function and lambda declares a anonymous functions to perform specific tasks"
   ]
  },
  {
   "cell_type": "code",
   "execution_count": null,
   "metadata": {},
   "outputs": [],
   "source": [
    "#2. What is the benefit of lambda?\n",
    "'''Fewer Lines of Code\n",
    "One of the benefits of using lambda expression is the reduced amount of code.\n",
    "Sequential and Parallel Execution Support by passing behavior in methods.\n",
    "Higher Efficiency (Utilizing Multicore CPU's)\n",
    "'''"
   ]
  },
  {
   "cell_type": "code",
   "execution_count": 1,
   "metadata": {},
   "outputs": [
    {
     "data": {
      "text/plain": [
       "['0', '1', '2', '3', '4', '5', '6', '7', '8', '9']"
      ]
     },
     "execution_count": 1,
     "metadata": {},
     "output_type": "execute_result"
    }
   ],
   "source": [
    "#3. Compare and contrast map, filter, and reduce.\n",
    "#map() applies the function it receives as an argument to each element in a sequence and returns the resulting sequence.\n",
    "\n",
    "seq = list(range(10))\n",
    "list(map(str,seq))\n",
    "\n",
    "'''\n",
    "filter() takes a function called a predicate that returns “True” if an element passes the condition stated in the predicate, and “False” otherwise. The filter() function’s output consists of the elements of the original sequence that pass the predicate.\n",
    "\n",
    "'''\n"
   ]
  },
  {
   "cell_type": "code",
   "execution_count": 2,
   "metadata": {},
   "outputs": [
    {
     "data": {
      "text/plain": [
       "['Bosnia and herzegovina', 'finland', 'Ireland']"
      ]
     },
     "execution_count": 2,
     "metadata": {},
     "output_type": "execute_result"
    }
   ],
   "source": [
    "countries = ['Bosnia and herzegovina','India','finland','Ireland','china']\n",
    "list(filter(lambda x : \"and\" in x ,countries))"
   ]
  },
  {
   "cell_type": "code",
   "execution_count": null,
   "metadata": {},
   "outputs": [],
   "source": [
    "'''\n",
    "Python’s reduce() function doesn’t return a new sequence like map() and filter(). Instead, it returns a single value\n",
    "reduce() applies the function to the elements of the sequence, from left to right, starting with the first two elements in the sequence. We combine the result of applying the function to the sequence’s first two elements with the third element and pass them to another call of the same function. \n",
    "This process repeats until we reach the end of the iterable and the iterable reduces to a single value.\n",
    "\n",
    "'''"
   ]
  },
  {
   "cell_type": "code",
   "execution_count": 3,
   "metadata": {},
   "outputs": [
    {
     "data": {
      "text/plain": [
       "945"
      ]
     },
     "execution_count": 3,
     "metadata": {},
     "output_type": "execute_result"
    }
   ],
   "source": [
    "from functools import reduce\n",
    "numm = [1,3,5,7,9]\n",
    "reduce(lambda x,y : x*y,numm)"
   ]
  },
  {
   "cell_type": "code",
   "execution_count": null,
   "metadata": {},
   "outputs": [],
   "source": [
    "'''\n",
    "#4. What are function annotations, and how are they used?\n",
    "\n",
    "Function annotations are nothing more than a way of associating arbitrary Python expressions with various parts of a function at compile-time.\n",
    "Function annotations, both for parameters and return values, are completely optional.\n",
    "Annotations for parameters take the form of optional expressions that follow the parameter name:\n",
    "\n",
    "to annotate the type of a function's return value. This is done like so:\n",
    "\n",
    "Python does not attach any meaning to these annotations. They take life when interpreted by third party libraries\n",
    "\n",
    "'''"
   ]
  },
  {
   "cell_type": "code",
   "execution_count": 6,
   "metadata": {},
   "outputs": [
    {
     "data": {
      "text/plain": [
       "120"
      ]
     },
     "execution_count": 6,
     "metadata": {},
     "output_type": "execute_result"
    }
   ],
   "source": [
    "#5. What are recursive functions, and how are they used?\n",
    "#In Python, we know that a function can call other functions. It is even possible for the function to call itself. These types of construct are termed as recursive functions. below is an example of recursive function factorial() :\n",
    "\n",
    "\n",
    "def factorial(x):\n",
    "    if x == 1: return 1\n",
    "    else:\n",
    "        return (x*factorial(x-1))\n",
    "\n",
    "factorial(5)"
   ]
  },
  {
   "cell_type": "code",
   "execution_count": null,
   "metadata": {},
   "outputs": [],
   "source": [
    "#6. What are some general design guidelines for coding functions?\n",
    "\n",
    "'''Limited use of globals: These rules tell about which types of data that can be declared global and the data that can’t be.\n",
    "The header format must contain below things that is being used in various companies:\n",
    "Name of the module Date of module creation Author of the module etc.\n",
    "\n",
    "Meaningful and understandable variables name helps anyone to understand the reason of using it. Local variables should be named using camel case lettering starting with small letter (e.g. localData) whereas Global variables names should start with a capital letter (e.g. GlobalData). Constant names should be formed using capital letters only (e.g. CONSDATA)\n",
    "\n",
    "Proper indentation is very important to increase the readability of the code\n",
    "\n",
    "Error return values and exception handling conventions: All functions that encountering an error condition should either return a 0 or 1 for simplifying the debugging.\n",
    "\n",
    "Code should be well documented and Length of functions should not be very large\n",
    "\n",
    "'''"
   ]
  },
  {
   "cell_type": "code",
   "execution_count": null,
   "metadata": {},
   "outputs": [],
   "source": [
    "#7. Name three or more ways that functions can communicate results to a caller.\n",
    "'''a function can be called by writhing function_name() with required parameters\n",
    "we can also call a function using built-in function for ex:\n",
    "str = function_name('xyz')\n",
    "a function can also communicate its result through nested function. they can also be passed as arguments as below:\n",
    "'''"
   ]
  },
  {
   "cell_type": "code",
   "execution_count": 7,
   "metadata": {},
   "outputs": [
    {
     "name": "stdout",
     "output_type": "stream",
     "text": [
      "[1, 2, 3, 5]\n"
     ]
    }
   ],
   "source": [
    "def apply(L,f): #Applies function given by f to each element in list L\n",
    "    res = []\n",
    "    for i in range(len(L)):\n",
    "        res.append(f(L[i]))\n",
    "    return res\n",
    "\n",
    "L = [-1,2,-3,5]\n",
    "print(apply(L,abs)) #we can see that the built in function abs is applied to all elements of L and returned the new list\n",
    "\n"
   ]
  },
  {
   "cell_type": "code",
   "execution_count": null,
   "metadata": {},
   "outputs": [],
   "source": [
    "#Functions as elements of a list\n",
    "#Functions can be stored as elements of a list or any other data structure in Python"
   ]
  },
  {
   "cell_type": "code",
   "execution_count": 8,
   "metadata": {},
   "outputs": [
    {
     "name": "stdout",
     "output_type": "stream",
     "text": [
      "[2.3, -2]\n"
     ]
    }
   ],
   "source": [
    "def apply(L,x):\n",
    "    res = []\n",
    "    for i in L:\n",
    "        res.append(i(x))\n",
    "    return res\n",
    "\n",
    "list = [abs,int]\n",
    "print(apply(list,-2.3))"
   ]
  },
  {
   "cell_type": "code",
   "execution_count": null,
   "metadata": {},
   "outputs": [],
   "source": []
  }
 ],
 "metadata": {
  "kernelspec": {
   "display_name": "Python 3",
   "language": "python",
   "name": "python3"
  },
  "language_info": {
   "codemirror_mode": {
    "name": "ipython",
    "version": 3
   },
   "file_extension": ".py",
   "mimetype": "text/x-python",
   "name": "python",
   "nbconvert_exporter": "python",
   "pygments_lexer": "ipython3",
   "version": "3.8.5"
  }
 },
 "nbformat": 4,
 "nbformat_minor": 4
}
