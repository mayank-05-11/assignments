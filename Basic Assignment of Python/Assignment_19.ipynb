{
 "cells": [
  {
   "cell_type": "code",
   "execution_count": 1,
   "metadata": {},
   "outputs": [
    {
     "name": "stdout",
     "output_type": "stream",
     "text": [
      "<class '__main__.Thing'>\n",
      "<class '__main__.example'>\n"
     ]
    }
   ],
   "source": [
    "#1.Make a class called Thing with no contents and print it. Then, create an object called example from this class and also print it. Are the printed values the same or different?\n",
    "\n",
    "class Thing():\n",
    "    pass\n",
    "print(Thing)\n",
    "class example():\n",
    "    pass\n",
    "print(example)"
   ]
  },
  {
   "cell_type": "code",
   "execution_count": 2,
   "metadata": {},
   "outputs": [
    {
     "name": "stdout",
     "output_type": "stream",
     "text": [
      "abc\n"
     ]
    }
   ],
   "source": [
    "#2. Create a new class called Thing2 and add the value 'abc' to the letters class attribute. Letters should be printed\n",
    "\n",
    "class Thing2():\n",
    "    letters = 'abc'\n",
    "print(Thing2.letters)"
   ]
  },
  {
   "cell_type": "code",
   "execution_count": 3,
   "metadata": {},
   "outputs": [
    {
     "name": "stdout",
     "output_type": "stream",
     "text": [
      "xyz\n"
     ]
    }
   ],
   "source": [
    "#3. Make yet another class called, of course, Thing3. This time, assign the value 'xyz' to an instance (object) attribute called letters. Print letters. Do you need to make an object from the class to do this?\n",
    "\n",
    "class Thing3():\n",
    "    letters = 'xyz'\n",
    "print(Thing3.letters)"
   ]
  },
  {
   "cell_type": "code",
   "execution_count": 4,
   "metadata": {},
   "outputs": [
    {
     "name": "stdout",
     "output_type": "stream",
     "text": [
      "name =Hydrogen , symbol = H , number = 1\n"
     ]
    }
   ],
   "source": [
    "#4. Create an Element class with the instance attributes name, symbol, and number. Create a class object with the values 'Hydrogen,' 'H,' and 1.\n",
    "\n",
    "class Element():\n",
    "    def __init__(self,name,symbol,number):\n",
    "        self.name = name\n",
    "        self.symbol = symbol\n",
    "        self.number = number\n",
    "    def __str__(self):\n",
    "        return \"name ={} , symbol = {} , number = {}\".format(self.name,self.symbol,self.number)\n",
    "obj = Element('Hydrogen','H',1)\n",
    "print(obj)"
   ]
  },
  {
   "cell_type": "code",
   "execution_count": 6,
   "metadata": {},
   "outputs": [
    {
     "name": "stdout",
     "output_type": "stream",
     "text": [
      "name =Hydrogen , symbol = H , number = 1\n",
      "name =Hydrogen , symbol = H , number = 1\n"
     ]
    }
   ],
   "source": [
    "#5.Make a dictionary with these keys and values: 'name': 'Hydrogen', 'symbol': 'H', 'number': 1. Then, create an object called hydrogen from class Element using this dictionary.\n",
    "\n",
    "diction = {'name':'Hydrogen','symbol':'H','number':1}\n",
    "obj = Element(diction['name'],diction['symbol'],diction['number'])\n",
    "\n",
    "print(obj)\n",
    "\n",
    "obj1 = Element(**diction)\n",
    "print(obj)"
   ]
  },
  {
   "cell_type": "code",
   "execution_count": 7,
   "metadata": {},
   "outputs": [
    {
     "data": {
      "text/plain": [
       "'name = Hydrogen , symbol = H , number = 1'"
      ]
     },
     "execution_count": 7,
     "metadata": {},
     "output_type": "execute_result"
    }
   ],
   "source": [
    "#6. For the Element class, define a method called dump() that prints the values of the object’s attributes (name, symbol, and number). Create the hydrogen object from this new definition and use dump() to print its attributes.\n",
    "class Element():\n",
    "    def __init__(s,name,symbol,number):\n",
    "        s.n = name\n",
    "        s.sym = symbol\n",
    "        s.num = number\n",
    "    def dump(ss):\n",
    "        return \"name = {} , symbol = {} , number = {}\".format(ss.n,ss.sym,ss.num)\n",
    "\n",
    "obj = Element('Hydrogen','H',1)\n",
    "\n",
    "obj.dump()"
   ]
  },
  {
   "cell_type": "code",
   "execution_count": 8,
   "metadata": {},
   "outputs": [
    {
     "name": "stdout",
     "output_type": "stream",
     "text": [
      "name = Hydrogen , symbol = H , number = 1\n"
     ]
    }
   ],
   "source": [
    "#7. Call print(hydrogen). In the definition of Element, change the name of method dump to __str__, create a new hydrogen object, and call print(hydrogen) again.\n",
    "\n",
    "class Element():\n",
    "    def __init__(ss,name,symbol,number):\n",
    "        ss.n = name\n",
    "        ss.sym = symbol\n",
    "        ss.num = number\n",
    "    def __str__(ss):\n",
    "        return \"name = {} , symbol = {} , number = {}\".format(ss.n,ss.sym,ss.num)\n",
    "\n",
    "obj = Element('Hydrogen','H',1)\n",
    "print(obj)"
   ]
  },
  {
   "cell_type": "code",
   "execution_count": 9,
   "metadata": {},
   "outputs": [
    {
     "name": "stdout",
     "output_type": "stream",
     "text": [
      "Hydrogen H 1\n"
     ]
    }
   ],
   "source": [
    "#8. Modify Element to make the attributes name, symbol, and number private. Define a getter property for each to return its value.\n",
    "\n",
    "class Element():\n",
    "    def __init__(ss,name,symbol,number):\n",
    "        ss.__n = name\n",
    "        ss.__sym = symbol\n",
    "        ss.__num = number\n",
    "    \n",
    "    def name(ss):\n",
    "        return ss.__n\n",
    "    def sym(ss):\n",
    "        return ss.__sym\n",
    "    def num(ss):\n",
    "        return ss.__num\n",
    "obj1 = Element('Hydrogen','H',1)\n",
    "print(obj1.name(),obj1.sym(),obj1.num())"
   ]
  },
  {
   "cell_type": "code",
   "execution_count": 14,
   "metadata": {},
   "outputs": [
    {
     "name": "stdout",
     "output_type": "stream",
     "text": [
      "Bear eats: berries \n",
      "Rabbit eats: clover \n",
      "Octothorpe eats: campers\n"
     ]
    }
   ],
   "source": [
    "#9. Define three classes: Bear, Rabbit, and Octothorpe. For each, define only one method: eats(). This should return 'berries' (Bear), 'clover' (Rabbit), or 'campers' (Octothorpe). Create one object from each and print what it eats.\n",
    "\n",
    "class Bear():\n",
    "    \n",
    "    def eats(ss):\n",
    "        return 'berries'\n",
    "\n",
    "class Rabbit():\n",
    "    \n",
    "    def eats(ss):\n",
    "        return 'clover'\n",
    "\n",
    "class Octothorpe():\n",
    "    \n",
    "    def eats(ss):\n",
    "        return 'campers'\n",
    "\n",
    "obj = Bear()\n",
    "obj1 = Rabbit()\n",
    "obj2 = Octothorpe()\n",
    "\n",
    "print('Bear eats: {} \\nRabbit eats: {} \\nOctothorpe eats: {}'.format(obj.eats(),obj1.eats(),obj2.eats()))"
   ]
  },
  {
   "cell_type": "code",
   "execution_count": 15,
   "metadata": {},
   "outputs": [
    {
     "data": {
      "text/plain": [
       "'Laser :disintegrate Claw :crush SmartPhone : ring'"
      ]
     },
     "execution_count": 15,
     "metadata": {},
     "output_type": "execute_result"
    }
   ],
   "source": [
    "#10. Define these classes: Laser, Claw, and SmartPhone. Each has only one method: does(). This returns 'disintegrate' (Laser), 'crush' (Claw), or 'ring' (SmartPhone). Then, define the class Robot that has one instance (object) of each of these. Define a does() method for the Robot that prints what its component objects do.\n",
    "\n",
    "class Laser():\n",
    "    \n",
    "    def does(ss):\n",
    "        return 'disintegrate'\n",
    "    \n",
    "class Claw():\n",
    "    \n",
    "    def does(ss):\n",
    "        return 'crush'\n",
    "    \n",
    "class SmartPhone():\n",
    "    \n",
    "    def does(ss):\n",
    "        return 'ring'\n",
    "    \n",
    "class Robot():\n",
    "    def __init__(ss,laser,claw,smartphone):\n",
    "        ss.las = laser\n",
    "        ss.cl = claw\n",
    "        ss.smart = smartphone\n",
    "\n",
    "    def does(ss):\n",
    "        return 'Laser :{} Claw :{} SmartPhone : {}'.format(ss.las.does(),ss.cl.does(),ss.smart.does())\n",
    "    \n",
    "laser = Laser()\n",
    "claw = Claw()\n",
    "Smartp = SmartPhone()\n",
    "robo = Robot(laser,claw,Smartp)\n",
    "robo.does()"
   ]
  },
  {
   "cell_type": "code",
   "execution_count": null,
   "metadata": {},
   "outputs": [],
   "source": []
  }
 ],
 "metadata": {
  "kernelspec": {
   "display_name": "Python 3",
   "language": "python",
   "name": "python3"
  },
  "language_info": {
   "codemirror_mode": {
    "name": "ipython",
    "version": 3
   },
   "file_extension": ".py",
   "mimetype": "text/x-python",
   "name": "python",
   "nbconvert_exporter": "python",
   "pygments_lexer": "ipython3",
   "version": "3.8.5"
  }
 },
 "nbformat": 4,
 "nbformat_minor": 4
}
