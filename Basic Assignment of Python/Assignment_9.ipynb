{
 "cells": [
  {
   "cell_type": "markdown",
   "metadata": {},
   "source": [
    "# Assignment_9"
   ]
  },
  {
   "cell_type": "code",
   "execution_count": null,
   "metadata": {},
   "outputs": [],
   "source": [
    "'''\n",
    "1. To what does a relative path refer?\n",
    "\n",
    "A relative path refers to a location that is relative to a current directory. \n",
    "Relative paths make use of two special symbols, a dot (.) and a double-dot (..), which translate into the current directory and the parent directory. \n",
    "Double dots are used for moving up in the hierarchy. A single dot represents the current directory itself.\n",
    "\n",
    "'''"
   ]
  },
  {
   "cell_type": "code",
   "execution_count": null,
   "metadata": {},
   "outputs": [],
   "source": [
    "'''\n",
    "2. What does an absolute path start with your operating system?\n",
    "\n",
    "an absolute path in windows system starts with\n",
    "C:\\Users\\github\\mingw64\n",
    "'''"
   ]
  },
  {
   "cell_type": "code",
   "execution_count": null,
   "metadata": {},
   "outputs": [],
   "source": [
    "'''\n",
    "3. What do the functions os.getcwd() and os.chdir() do?\n",
    "\n",
    "os.getcwd() method tells us the location of current working directory (CWD).\n",
    "os.chdir() method in Python used to change the current working directory to specified path. \n",
    "It takes only a single argument as new directory path.\n",
    "'''"
   ]
  },
  {
   "cell_type": "code",
   "execution_count": null,
   "metadata": {},
   "outputs": [],
   "source": [
    "'''\n",
    "4. What are the . and .. folders?\n",
    "\n",
    "\n",
    "'''"
   ]
  },
  {
   "cell_type": "code",
   "execution_count": null,
   "metadata": {},
   "outputs": [],
   "source": [
    "'''\n",
    "5. In C:\\bacon\\eggs\\spam.txt, which part is the dir name, and which part is the base name?\n",
    "\n",
    "the basename is spam.txt and the dir name is C:\\bacon\n",
    "'''"
   ]
  },
  {
   "cell_type": "code",
   "execution_count": null,
   "metadata": {},
   "outputs": [],
   "source": [
    "'''\n",
    "6. What are the three “mode” arguments that can be passed to the open() function?\n",
    "\n",
    "\"r\", for reading.\n",
    "\"w\", for writing.\n",
    "\"a\", for appending.\n",
    "\n",
    "'''"
   ]
  },
  {
   "cell_type": "code",
   "execution_count": null,
   "metadata": {},
   "outputs": [],
   "source": [
    "'''\n",
    "7. What happens if an existing file is opened in write mode?\n",
    "\n",
    "If a file with the same name already exists, its contents are discarded and the file is treated as a new empty file. \n",
    "\n",
    "'''"
   ]
  },
  {
   "cell_type": "code",
   "execution_count": null,
   "metadata": {},
   "outputs": [],
   "source": [
    "'''\n",
    "8. How do you tell the difference between read() and readlines()?\n",
    "\n",
    "The only difference between the Read() and ReadLine() is that Console.Read is used to read only single character from the standard output device, \n",
    "while Console.ReadLine is used to read a line or string from the standard output device.\n",
    "\n",
    "'''"
   ]
  },
  {
   "cell_type": "code",
   "execution_count": null,
   "metadata": {},
   "outputs": [],
   "source": [
    "'''\n",
    "9. What data structure does a shelf value resemble?\n",
    "\n",
    "A shelf value resembles a dictionary value; it has keys and values, \n",
    "along with keys() and values() methods that work similarly to the dictionary methods of the same names.\n",
    "\n",
    "'''"
   ]
  }
 ],
 "metadata": {
  "kernelspec": {
   "display_name": "Python 3",
   "language": "python",
   "name": "python3"
  },
  "language_info": {
   "codemirror_mode": {
    "name": "ipython",
    "version": 3
   },
   "file_extension": ".py",
   "mimetype": "text/x-python",
   "name": "python",
   "nbconvert_exporter": "python",
   "pygments_lexer": "ipython3",
   "version": "3.8.5"
  }
 },
 "nbformat": 4,
 "nbformat_minor": 4
}
