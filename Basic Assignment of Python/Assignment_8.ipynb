{
 "cells": [
  {
   "cell_type": "markdown",
   "metadata": {},
   "source": [
    "# Assignment_8"
   ]
  },
  {
   "cell_type": "code",
   "execution_count": null,
   "metadata": {},
   "outputs": [],
   "source": [
    "'''\n",
    "1. Is the Python Standard Library included with PyInputPlus?\n",
    "  \n",
    "   No, the Python Standard Library included with PyInputPlus\n",
    "   \n",
    "'''"
   ]
  },
  {
   "cell_type": "code",
   "execution_count": null,
   "metadata": {},
   "outputs": [],
   "source": [
    "'''\n",
    "2. Why is PyInputPlus commonly imported with import pyinputplus as pypi?\n",
    "\n",
    "You can import the module with import pyinputplus as pyip so that you can enter a shorter name when calling the module's functions. \n",
    "PyInputPlus has functions for entering a variety of input, including strings, numbers, dates, yes/no, True/False, emails, and files.\n",
    "\n",
    "'''"
   ]
  },
  {
   "cell_type": "code",
   "execution_count": null,
   "metadata": {},
   "outputs": [],
   "source": [
    "'''\n",
    "3. How do you distinguish between inputInt() and inputFloat()?\n",
    "\n",
    "inputInt(): Accepts an integer value. This also takes additional parameters ‘min’, ‘max’, ‘greaterThan’ and ‘lessThan’  for bounds. Returns an int.\n",
    "\n",
    "\n",
    "inputFloat(): Accepts a floating-point numeric value. Also takes additional ‘min’, ‘max’, ‘greaterThan’ and ‘lessThan’  parameters. Returns a float.\n",
    "'''"
   ]
  },
  {
   "cell_type": "code",
   "execution_count": null,
   "metadata": {},
   "outputs": [],
   "source": [
    "'''\n",
    "4. Using PyInputPlus, how do you ensure that the user enters a whole number between 0 and 99?\n",
    "\n",
    "'''\n",
    "import pyinputplus as pyip\n",
    "  \n",
    "# integer input between 0 and 99\n",
    "inp = pyip.inputInt(prompt = \"Enter an Integer... \",min = 0, max = 99)\n",
    "  \n",
    "print(inp)"
   ]
  },
  {
   "cell_type": "code",
   "execution_count": null,
   "metadata": {},
   "outputs": [],
   "source": [
    "'''\n",
    "5. What is transferred to the keyword arguments allowRegexes and blockRegexes?\n",
    "\n",
    "We can set a list of regex strings to the allowRegexes parameter to the PyInputPlus functions.\n",
    "Similarly to avoid certain expressions or inputs we can use blockRegexes.\n",
    "\n",
    "'''\n",
    "import pyinputplus as pypi\n",
    "phone = pypi.inputNum(prompt='What is your phone?',  allowRegexes=[r'\\w{6}'],blockRegexes=[r'*&'])\n",
    "print('Your phone is', phone)"
   ]
  },
  {
   "cell_type": "code",
   "execution_count": null,
   "metadata": {},
   "outputs": [],
   "source": [
    "'''\n",
    "6. If a blank input is entered three times, what does inputStr(limit=3) do?\n",
    "\n",
    "if we set inputStr(limit=3) and if blank input is entered 3 times then for 3 times\n",
    "\"Blank values are not allowed\" will pop up and afterwards a RetryLimitException will be displayed\n",
    "\n",
    "'''\n",
    "res = pypi.inputStr(limit = 3)\n"
   ]
  },
  {
   "cell_type": "code",
   "execution_count": null,
   "metadata": {},
   "outputs": [],
   "source": [
    "'''\n",
    "7. If blank input is entered three times, what does inputStr(limit=3, default='hello') do?\n",
    "\n",
    "By doing this it won't throw an RetryLimitException.\n",
    "'''\n",
    "res = pypi.inputStr(limit = 3,default= \"hello\")\n"
   ]
  }
 ],
 "metadata": {
  "kernelspec": {
   "display_name": "Python 3",
   "language": "python",
   "name": "python3"
  },
  "language_info": {
   "codemirror_mode": {
    "name": "ipython",
    "version": 3
   },
   "file_extension": ".py",
   "mimetype": "text/x-python",
   "name": "python",
   "nbconvert_exporter": "python",
   "pygments_lexer": "ipython3",
   "version": "3.8.5"
  }
 },
 "nbformat": 4,
 "nbformat_minor": 4
}
