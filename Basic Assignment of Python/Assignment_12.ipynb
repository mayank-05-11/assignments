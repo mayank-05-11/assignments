{
 "cells": [
  {
   "cell_type": "code",
   "execution_count": null,
   "metadata": {},
   "outputs": [],
   "source": [
    "#1. In what modes should the PdfFileReader() and PdfFileWriter() File objects will be opened?\n",
    "'''\n",
    "'rb' i.e read binary\n",
    "'''"
   ]
  },
  {
   "cell_type": "code",
   "execution_count": 3,
   "metadata": {},
   "outputs": [
    {
     "name": "stdout",
     "output_type": "stream",
     "text": [
      "number of pages in the pdf is:  25\n",
      "page 5 of the pdf : \n",
      " 6\n",
      " \n",
      "| \n",
      "Page\n",
      " \n",
      " \n",
      " \n",
      " \n",
      " \n",
      " \n",
      "Faculty of Computer Science\n",
      " \n",
      "Lachoo Memorial College of Science &\n",
      " \n",
      " \n",
      "Technology (Autonomous) Jodhpur\n",
      " \n",
      " \n",
      " \n",
      " \n",
      "CERTIFICATE\n",
      " \n",
      " \n",
      "This is to certify that the P\n",
      "roject entitled\n",
      " \n",
      " \n",
      "Computer Accessories (Web Application)\n",
      " \n",
      "has been designed and developed by\n",
      " \n",
      " \n",
      " \n",
      "Mayank Agarwal\n",
      " \n",
      " \n",
      "in partial fulfillment of the degree of MCA VI Semester \n",
      "Examination 2020, under our supervision and guidance.\n",
      " \n",
      " \n",
      " \n",
      " \n",
      " \n",
      " \n",
      "Prof. (Dr.) Priyadarshi Patni\n",
      " \n",
      "Pr\n",
      "of. (Dr.) Neeraj Mathur\n",
      " \n",
      "Director\n",
      " \n",
      "Assistant Professor,\n",
      " \n",
      "Faculty of Computer Science\n",
      " \n",
      "Faculty of Computer Science\n",
      " \n",
      " \n",
      " \n",
      " \n",
      "\n"
     ]
    }
   ],
   "source": [
    "\n",
    "#2. From a PdfFileReader object, how do you get a Page object for page 5?\n",
    "'''\n",
    "we can use following function with pdfFileReader object:\n",
    "   obj2 = pdfreader.getPage(5)\n",
    "   obj2.extractText()\n",
    "   \n",
    "'''\n",
    "\n",
    "import PyPDF2 as pdf\n",
    "obj = open('C:/Users/Mayank/Downloads/New folder/Mayank MCA Training Report.pdf','rb')\n",
    "pdfreader = pdf.PdfFileReader(obj)\n",
    "print(\"number of pages in the pdf is: \" ,pdfreader.numPages)\n",
    "obj2 = pdfreader.getPage(5)\n",
    "print(\"page 5 of the pdf : \\n\",obj2.extractText())"
   ]
  },
  {
   "cell_type": "code",
   "execution_count": null,
   "metadata": {},
   "outputs": [],
   "source": [
    "#3. What PdfFileReader variable stores the number of pages in the PDF document?\n",
    "'''\n",
    "suppose we have pdfreader object for PdfFileReader \n",
    "so the number of pages are stored in:\n",
    "   pdfreader.numPages\n",
    "'''"
   ]
  },
  {
   "cell_type": "code",
   "execution_count": null,
   "metadata": {},
   "outputs": [],
   "source": [
    "#4. If a PdfFileReader object’s PDF is encrypted with the password swordfish, what must you do before you can obtain Page objects from it?\n",
    "'''\n",
    "suppose the PdfFileReader object is pdfreader \n",
    "so we can use : \n",
    "  if pdfreader.isEncrypted:\n",
    "     pdfreader.decrypt(\"swordfish\")\n",
    "\n",
    "'''"
   ]
  },
  {
   "cell_type": "code",
   "execution_count": null,
   "metadata": {},
   "outputs": [],
   "source": [
    "#5. What methods do you use to rotate a page?\n",
    "'''\n",
    "suppose we have:\n",
    "  pdfreader = PyPDF2.PdfFileReader(...)\n",
    "  pdf_obj = pdfreader.getPage(9)\n",
    "  pdf_obj.rotateClockwise(90)\n",
    "'''"
   ]
  },
  {
   "cell_type": "code",
   "execution_count": null,
   "metadata": {},
   "outputs": [],
   "source": [
    "#6.What is the difference between a Run object and a Paragraph object?\n",
    "'''\n",
    "Paragraph objects has a text attribute that contains a string of the text in that paragraph \n",
    "(without the style information).\n",
    " Run objects also have a text attribute, containing just the text in that particular run.\n",
    "\n",
    "'''"
   ]
  },
  {
   "cell_type": "code",
   "execution_count": null,
   "metadata": {},
   "outputs": [],
   "source": [
    "#7. How do you obtain a list of Paragraph objects for a Document object that’s stored in a variablenamed doc?\n",
    "'''\n",
    "doc.paragraphs will return the list of paragraph objects.\n",
    "len(doc.paragraphs) returns the number of paragraph objetcs\n",
    "\n",
    "'''"
   ]
  },
  {
   "cell_type": "code",
   "execution_count": null,
   "metadata": {},
   "outputs": [],
   "source": [
    "#8. What type of object has bold, underline, italic, strike, and outline variables?\n",
    "'''\n",
    "run object\n",
    "\n",
    "'''"
   ]
  },
  {
   "cell_type": "code",
   "execution_count": null,
   "metadata": {},
   "outputs": [],
   "source": [
    "#9.What is the difference between False, True, and None for the bold variable?\n",
    "'''\n",
    "True : the attribute is always enabled, no matter what other styles are applied to the run\n",
    "False : the attribute is always disabled\n",
    "None : defaults to whatever the run’s style is set to\n",
    "'''"
   ]
  },
  {
   "cell_type": "code",
   "execution_count": null,
   "metadata": {},
   "outputs": [],
   "source": [
    "#10. How do you create a Document object for a new Word document?\n",
    "'''\n",
    "  import docx\n",
    "  doc = docx.Document(__documentName__)\n",
    "'''"
   ]
  },
  {
   "cell_type": "code",
   "execution_count": null,
   "metadata": {},
   "outputs": [],
   "source": [
    "#11. How do you add a paragraph with the text \"Hello, there\" to a Document object stored in a variable named doc?\n",
    "'''\n",
    "   doc.add_paragrapgh(\"hello there\")\n",
    "   doc.save('helloThere.docx')\n",
    "   \n",
    "'''"
   ]
  },
  {
   "cell_type": "code",
   "execution_count": null,
   "metadata": {},
   "outputs": [],
   "source": [
    "#12. What integers represent the levels of headings available in Word documents?\n",
    "'''\n",
    "integers from 0 to 4 are for various heading levels, with 1 being the main heading and 4 the lowest subheading\n",
    "\n",
    "'''"
   ]
  }
 ],
 "metadata": {
  "kernelspec": {
   "display_name": "Python 3",
   "language": "python",
   "name": "python3"
  },
  "language_info": {
   "codemirror_mode": {
    "name": "ipython",
    "version": 3
   },
   "file_extension": ".py",
   "mimetype": "text/x-python",
   "name": "python",
   "nbconvert_exporter": "python",
   "pygments_lexer": "ipython3",
   "version": "3.8.5"
  }
 },
 "nbformat": 4,
 "nbformat_minor": 4
}
