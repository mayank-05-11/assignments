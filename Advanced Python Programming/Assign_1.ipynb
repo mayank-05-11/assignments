{
 "cells": [
  {
   "cell_type": "markdown",
   "metadata": {},
   "source": [
    "# Assignment_1"
   ]
  },
  {
   "cell_type": "code",
   "execution_count": 4,
   "metadata": {},
   "outputs": [
    {
     "name": "stdout",
     "output_type": "stream",
     "text": [
      "2\n"
     ]
    }
   ],
   "source": [
    "# 1. Write a function that takes a list of lists and returns the value of all of the symbols in it, where each symbol adds or takes something from the total score. Symbol values:\n",
    "\n",
    "# # = 5\n",
    "# O = 3\n",
    "# X = 1\n",
    "# ! = -1\n",
    "# !! = -3\n",
    "# !!! = -5\n",
    "\n",
    "# A list of lists containing 2 #s, a O, and a !!! would equal (0 + 5 + 5 + 3 - 5) 8.\n",
    "\n",
    "# If the final score is negative, return 0 (e.g. 3 #s, 3 !!s, 2 !!!s and a X would be (0 + 5 + 5 + 5 - 3 - 3 - 3 - 5 - 5 + 1) -3, so return 0.\n",
    "\n",
    "# Examples\n",
    "\n",
    "# check_score([\n",
    "#   [\"#\", \"!\"],\n",
    "#   [\"!!\", \"X\"]\n",
    "# ]) ➞ 2\n",
    "\n",
    "# check_score([\n",
    "#   [\"!!!\", \"O\", \"!\"],\n",
    "#   [\"X\", \"#\", \"!!!\"],\n",
    "#   [\"!!\", \"X\", \"O\"]\n",
    "# ]) ➞ 0\n",
    "\n",
    "                                          \n",
    "                                          \n",
    "sym=[\"#\",\"O\",\"X\",\"!\",\"!!\",\"!!!\"]\n",
    "values=[5,3,1,-1,-3,-5]\n",
    "\n",
    "def check_score(data):\n",
    "    result=0\n",
    "\n",
    "    for i in range(len(data)):\n",
    "        for j in range(len(data[i])):\n",
    "            for k in range(len(sym)):\n",
    "                if(data[i][j]==sym[k]):\n",
    "                    result+=values[k]\n",
    "    if(result>0):\n",
    "        return result\n",
    "    else:\n",
    "        return 0\n",
    "            \n",
    "#print(check_score([\n",
    "#[\"!!!\", \"O\" ,\"!\"],\n",
    "#[\"X\", \"#\", \"!!!\"],\n",
    "#[\"!!\",\"X\", \"O\"]\n",
    "#]))\n",
    "\n",
    "print(check_score([\n",
    "[\"#\", \"!\"],\n",
    "[\"!!\", \"X\"]\n",
    "]))"
   ]
  },
  {
   "cell_type": "code",
   "execution_count": 5,
   "metadata": {},
   "outputs": [
    {
     "name": "stdout",
     "output_type": "stream",
     "text": [
      "84\n"
     ]
    }
   ],
   "source": [
    "# 2. Create a function that takes a variable number of arguments, each argument representing the number of items in a group, and returns the number of permutations (combinations) of items that you could get by taking one item from each group.\n",
    "\n",
    "# Examples\n",
    "\n",
    "# combinations(2, 3) ➞ 6\n",
    "\n",
    "# combinations(3, 7, 4) ➞ 84\n",
    "\n",
    "# combinations(2, 3, 4, 5) ➞ 120\n",
    "\n",
    "def combinations(*args):\n",
    "    result=1\n",
    "    for i in range(len(args)):\n",
    "        result*=args[i]\n",
    "    return result\n",
    "\n",
    "print(combinations(3,7,4))"
   ]
  },
  {
   "cell_type": "code",
   "execution_count": 6,
   "metadata": {},
   "outputs": [
    {
     "name": "stdout",
     "output_type": "stream",
     "text": [
      ".... . .-.. .--.   -- .   -.-.-- "
     ]
    }
   ],
   "source": [
    "# 3. Create a function that takes a string as an argument and returns the Morse code equivalent.\n",
    "\n",
    "# Examples\n",
    "\n",
    "# encode_morse(\"EDABBIT CHALLENGE\") ➞ \". -.. .- -... -... .. -   -.-. .... .- .-.. .-.. . -. --. .\"\n",
    "\n",
    "# encode_morse(\"HELP ME !\") ➞ \".... . .-.. .--.   -- .   -.-.--\"\n",
    "\n",
    "# This dictionary can be used for coding:\n",
    "\n",
    "# char_to_dots = {\n",
    "#   'A': '.-', 'B': '-...', 'C': '-.-.', 'D': '-..', 'E': '.', 'F': '..-.',\n",
    "#   'G': '--.', 'H': '....', 'I': '..', 'J': '.---', 'K': '-.-', 'L': '.-..',\n",
    "#   'M': '--', 'N': '-.', 'O': '---', 'P': '.--.', 'Q': '--.-', 'R': '.-.',\n",
    "#   'S': '...', 'T': '-', 'U': '..-', 'V': '...-', 'W': '.--', 'X': '-..-',\n",
    "#   'Y': '-.--', 'Z': '--..', ' ': ' ', '0': '-----',\n",
    "#   '1': '.----', '2': '..---', '3': '...--', '4': '....-', '5': '.....',\n",
    "#   '6': '-....', '7': '--...', '8': '---..', '9': '----.',\n",
    "#   '&': '.-...', \"'\": '.----.', '@': '.--.-.', ')': '-.--.-', '(': '-.--.',\n",
    "#   ':': '---...', ',': '--..--', '=': '-...-', '!': '-.-.--', '.': '.-.-.-',\n",
    "#   '-': '-....-', '+': '.-.-.', '\"': '.-..-.', '?': '..--..', '/': '-..-.'\n",
    "# }\n",
    "\n",
    "\n",
    "char_to_dots = {\n",
    "  'A': '.-', 'B': '-...', 'C': '-.-.', 'D': '-..', 'E': '.', 'F': '..-.',\n",
    "  'G': '--.', 'H': '....', 'I': '..', 'J': '.---', 'K': '-.-', 'L': '.-..',\n",
    "  'M': '--', 'N': '-.', 'O': '---', 'P': '.--.', 'Q': '--.-', 'R': '.-.',\n",
    "  'S': '...', 'T': '-', 'U': '..-', 'V': '...-', 'W': '.--', 'X': '-..-',\n",
    "  'Y': '-.--', 'Z': '--..', ' ': ' ', '0': '-----',\n",
    "  '1': '.----', '2': '..---', '3': '...--', '4': '....-', '5': '.....',\n",
    "  '6': '-....', '7': '--...', '8': '---..', '9': '----.',\n",
    "  '&': '.-...', \"'\": '.----.', '@': '.--.-.', ')': '-.--.-', '(': '-.--.',\n",
    "  ':': '---...', ',': '--..--', '=': '-...-', '!': '-.-.--', '.': '.-.-.-',\n",
    "  '-': '-....-', '+': '.-.-.', '\"': '.-..-.', '?': '..--..', '/': '-..-.'\n",
    "}\n",
    "\n",
    "def encode_morse(data):\n",
    "    for i in range(len(data)):\n",
    "        print(char_to_dots[data[i]],end=\" \")\n",
    "\n",
    "# encode_morse('EDABBIT CHALLENGE')\n",
    "encode_morse('HELP ME !')"
   ]
  },
  {
   "cell_type": "code",
   "execution_count": 41,
   "metadata": {},
   "outputs": [
    {
     "name": "stdout",
     "output_type": "stream",
     "text": [
      "False\n"
     ]
    }
   ],
   "source": [
    "# 4.  Write a function that takes a number and returns True if it's a prime; False otherwise. The number can be 2^64-1 (2 to the power of 63, not XOR). With the standard technique it would be O(2^64-1), which is much too large for the 10 second time limit.\n",
    "\n",
    "# Examples\n",
    "\n",
    "# prime(7) ➞ True\n",
    "\n",
    "# prime(56963) ➞ True\n",
    "\n",
    "# prime(5151512515524) ➞ False\n",
    "\n",
    "\n",
    "\n",
    "def prime(data):\n",
    "    if data > 1:\n",
    "        for i in range(2, int(data/2)+1):\n",
    "            if (data % i) == 0:\n",
    "                print(\"False\")\n",
    "                break\n",
    "        else:\n",
    "            print(\"True\")\n",
    "    else:\n",
    "        return False\n",
    "\n",
    "prime(5151512515524)"
   ]
  },
  {
   "cell_type": "code",
   "execution_count": 42,
   "metadata": {},
   "outputs": [
    {
     "name": "stdout",
     "output_type": "stream",
     "text": [
      "['False', 'True', 'False', 'True', 'True']\n"
     ]
    }
   ],
   "source": [
    "# 5.  Create a function that converts a word to a bitstring and then to a boolean list based on the following criteria:\n",
    "\n",
    "#     1. Locate the position of the letter in the English alphabet (from 1 to 26).\n",
    "#     2. Odd positions will be represented as 1 and 0 otherwise.\n",
    "#     3. Convert the represented positions to boolean values, 1 for True and 0 for False.\n",
    "#     4. Store the conversions into an array.\n",
    "\n",
    "#  Examples\n",
    "\n",
    "# to_boolean_list(\"deep\") ➞ [False, True, True, False]\n",
    "# # deep converts to 0110\n",
    "# # d is the 4th alphabet - 0\n",
    "# # e is the 5th alphabet - 1\n",
    "# # e is the 5th alphabet - 1\n",
    "# # p is the 16th alphabet - 0\n",
    "\n",
    "# to_boolean_list(\"loves\") ➞ [False, True, False, True, True]\n",
    "\n",
    "# to_boolean_list(\"tesh\") ➞ [False, True, True, False]\n",
    "\n",
    "result=[]\n",
    "values=['a', 'b', 'c', 'd', 'e', 'f', 'g', 'h', 'i', 'j', 'k', 'l', 'm', 'n', 'o', 'p', 'q', 'r', 's', 't', 'u', 'v', 'w', 'x', 'y', 'z']\n",
    "def to_boolean_list(data):\n",
    "    for i in range(len(data)):\n",
    "        if(values.index(data[i])%2==0):\n",
    "            result.append(\"True\")\n",
    "        else:\n",
    "            result.append(\"False\")\n",
    "    print(result)\n",
    "    \n",
    "    \n",
    "    \n",
    "to_boolean_list(\"loves\")\n"
   ]
  },
  {
   "cell_type": "code",
   "execution_count": null,
   "metadata": {},
   "outputs": [],
   "source": []
  }
 ],
 "metadata": {
  "kernelspec": {
   "display_name": "Python 3",
   "language": "python",
   "name": "python3"
  },
  "language_info": {
   "codemirror_mode": {
    "name": "ipython",
    "version": 3
   },
   "file_extension": ".py",
   "mimetype": "text/x-python",
   "name": "python",
   "nbconvert_exporter": "python",
   "pygments_lexer": "ipython3",
   "version": "3.8.5"
  }
 },
 "nbformat": 4,
 "nbformat_minor": 4
}
