{
 "cells": [
  {
   "cell_type": "markdown",
   "metadata": {},
   "source": [
    "# Assignment_2"
   ]
  },
  {
   "cell_type": "code",
   "execution_count": 4,
   "metadata": {},
   "outputs": [
    {
     "name": "stdout",
     "output_type": "stream",
     "text": [
      "141\n"
     ]
    }
   ],
   "source": [
    "# 1. Write a function that takes a positive integer num and calculates how many dots exist in a pentagonal shape \n",
    "# around the center dot on the Nth iteration.\n",
    "\n",
    "# In the image below you can see the first iteration is only a single dot. \n",
    "# On the second, there are 6 dots. On the third, there are 16 dots, and on the fourth there are 31 dots.\n",
    "\n",
    "\n",
    "def pentagonal(data):\n",
    "    temp=1\n",
    "    for i in range(1,data):\n",
    "        i*=5\n",
    "        temp+=i\n",
    "    print(temp)\n",
    "\n",
    "pentagonal(8)"
   ]
  },
  {
   "cell_type": "code",
   "execution_count": 16,
   "metadata": {},
   "outputs": [
    {
     "name": "stdout",
     "output_type": "stream",
     "text": [
      "1lpp0\n"
     ]
    }
   ],
   "source": [
    "# 2.  Make a function that encrypts a given input with these steps:\n",
    "\n",
    "# Input: \"apple\"\n",
    "\n",
    "# Step 1: Reverse the input: \"elppa\"\n",
    "\n",
    "# Step 2: Replace all vowels using the following chart:\n",
    "\n",
    "\n",
    "dict = {'a':0,'e':1,'i':2,'o':2,'u':3}\n",
    "vowels = ['a','e','i','o','u']\n",
    "\n",
    "def encrypt(data):\n",
    "    b = data[::-1]\n",
    "    for i in b:\n",
    "        if i in vowels:\n",
    "            b=b.replace(i,str(dict[i]))\n",
    "    print(b)\n",
    "    \n",
    "encrypt('apple')"
   ]
  },
  {
   "cell_type": "code",
   "execution_count": 22,
   "metadata": {},
   "outputs": [
    {
     "name": "stdout",
     "output_type": "stream",
     "text": [
      "False\n"
     ]
    }
   ],
   "source": [
    "# 3. Given the month and year as numbers, return whether that month contains a Friday 13th.(i.e You can check Python's datetime module)\n",
    "\n",
    "# Examples\n",
    "\n",
    "# has_friday_13(3, 2020) ➞ True\n",
    "\n",
    "# has_friday_13(10, 2017) ➞ True\n",
    "\n",
    "# has_friday_13(1, 1985) ➞ False\n",
    "\n",
    "\n",
    "import datetime\n",
    "week_days = [\"Monday\",\"Tuesday\",\"Wednesday\",\"Thursday\",\"Friday\",\"Saturday\",\"Sunday\"]\n",
    "\n",
    "def has_friday_13(m,y):\n",
    "    week_num = datetime.date(y,m,13).weekday()\n",
    "    if(week_days[week_num] == \"Friday\"):\n",
    "        print(\"True\")\n",
    "    else:\n",
    "        print(\"False\")\n",
    "    \n",
    "has_friday_13(1, 1985)"
   ]
  },
  {
   "cell_type": "code",
   "execution_count": 23,
   "metadata": {},
   "outputs": [
    {
     "name": "stdout",
     "output_type": "stream",
     "text": [
      "2\n"
     ]
    }
   ],
   "source": [
    "# 4. Write a regular expression that will help us count how many bad cookies are produced every day. You must use RegEx negative lookbehind.\n",
    "\n",
    "# Example\n",
    "\n",
    "# lst = [\"bad cookie\", \"good cookie\", \"bad cookie\", \"good cookie\", \"good cookie\"]\n",
    "# pattern = \"yourregularexpressionhere\"\n",
    "\n",
    "# len(re.findall(pattern, \", \".join(lst))) ➞ 2\n",
    "\n",
    "\n",
    "\n",
    "import re\n",
    "lst = [\"bad cookie\", \"good cookie\", \"bad cookie\", \"good cookie\", \"good cookie\"]\n",
    "pattern = \"bad cookie\"\n",
    "\n",
    "values=len(re.findall(pattern, \", \".join(lst)))\n",
    "print(values)"
   ]
  },
  {
   "cell_type": "code",
   "execution_count": 1,
   "metadata": {},
   "outputs": [
    {
     "name": "stdout",
     "output_type": "stream",
     "text": [
      "{'pig', 'cow'}\n"
     ]
    }
   ],
   "source": [
    "# 5. Given a list of words in the singular form, return a set of those words in the plural form if they appear more than once in the list.\n",
    "\n",
    "# Examples\n",
    "\n",
    "# pluralize([\"cow\", \"pig\", \"cow\", \"cow\"]) ➞ { \"cows\", \"pig\" }\n",
    "\n",
    "# pluralize([\"table\", \"table\", \"table\"]) ➞ { \"tables\" }\n",
    "\n",
    "# pluralize([\"chair\", \"pencil\", \"arm\"]) ➞ { \"chair\", \"pencil\", \"arm\" }\n",
    "\n",
    "def pluralize(data):\n",
    "    result=set(data)\n",
    "    print(result)\n",
    "    \n",
    "pluralize([\"cow\", \"pig\", \"cow\", \"cow\"])"
   ]
  },
  {
   "cell_type": "code",
   "execution_count": null,
   "metadata": {},
   "outputs": [],
   "source": []
  }
 ],
 "metadata": {
  "kernelspec": {
   "display_name": "Python 3",
   "language": "python",
   "name": "python3"
  },
  "language_info": {
   "codemirror_mode": {
    "name": "ipython",
    "version": 3
   },
   "file_extension": ".py",
   "mimetype": "text/x-python",
   "name": "python",
   "nbconvert_exporter": "python",
   "pygments_lexer": "ipython3",
   "version": "3.8.5"
  }
 },
 "nbformat": 4,
 "nbformat_minor": 4
}
