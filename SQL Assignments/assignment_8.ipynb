{
 "cells": [
  {
   "cell_type": "code",
   "execution_count": null,
   "metadata": {},
   "outputs": [],
   "source": [
    "Q-15. Write an SQL query to fetch intersecting records of two tables.\n",
    "A-1 > \n",
    "SELECT  ID, NAME, AMOUNT, DATE\n",
    "   FROM CUSTOMERS\n",
    "   LEFT JOIN ORDERS\n",
    "   ON CUSTOMERS.ID = ORDERS.CUSTOMER_ID\n",
    "INTERSECT\n",
    "   SELECT  ID, NAME, AMOUNT, DATE\n",
    "   FROM CUSTOMERS\n",
    "   RIGHT JOIN ORDERS\n",
    "   ON CUSTOMERS.ID = ORDERS.CUSTOMER_ID;\n",
    "\n",
    "Q-16. Write an SQL query to show records from one table that another table does not have.\n",
    "A-2 > \n",
    "SELECT t1.name\n",
    "FROM table1 t1\n",
    "LEFT JOIN table2 t2 ON t2.name = t1.name\n",
    "WHERE t2.name IS NULL\n",
    "\n"
   ]
  }
 ],
 "metadata": {
  "kernelspec": {
   "display_name": "Python 3",
   "language": "python",
   "name": "python3"
  },
  "language_info": {
   "codemirror_mode": {
    "name": "ipython",
    "version": 3
   },
   "file_extension": ".py",
   "mimetype": "text/x-python",
   "name": "python",
   "nbconvert_exporter": "python",
   "pygments_lexer": "ipython3",
   "version": "3.8.5"
  }
 },
 "nbformat": 4,
 "nbformat_minor": 4
}
