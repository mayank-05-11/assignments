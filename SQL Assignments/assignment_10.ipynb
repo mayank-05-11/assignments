{
 "cells": [
  {
   "cell_type": "code",
   "execution_count": null,
   "metadata": {},
   "outputs": [],
   "source": [
    "Q-19. Write an SQL query to determine the 5th highest salary without using TOP or limit method.\n",
    "A-1 > SELECT ename,sal from Employee e1 where 5-1 = (SELECT COUNT(DISTINCT sal)from Employee e2 where e2.sal > e1.sal)\n",
    "Q-20. Write an SQL query to fetch the list of employees with the same salary.\n",
    "A-2 > SELECT s1.Name, s1.Station, s1.Salary\n",
    "FROM employees s1\n",
    "INNER JOIN employees s2 ON s1.Salary = s2.Salary AND s1.Name <> s2.Name\n"
   ]
  }
 ],
 "metadata": {
  "kernelspec": {
   "display_name": "Python 3",
   "language": "python",
   "name": "python3"
  },
  "language_info": {
   "codemirror_mode": {
    "name": "ipython",
    "version": 3
   },
   "file_extension": ".py",
   "mimetype": "text/x-python",
   "name": "python",
   "nbconvert_exporter": "python",
   "pygments_lexer": "ipython3",
   "version": "3.8.5"
  }
 },
 "nbformat": 4,
 "nbformat_minor": 4
}
