{
 "cells": [
  {
   "cell_type": "code",
   "execution_count": null,
   "metadata": {},
   "outputs": [],
   "source": [
    "Q-1. Write an SQL query to print details of the Workers who have joined in Feb’2014.\n",
    "A-1 > Select * from Worker where year(JOINING_DATE) = 2014 and month(JOINING_DATE) = 2;\n",
    "Q-2. Write an SQL query to fetch duplicate records having matching data in some fields of a table.\n",
    "A-2 > SELECT *, COUNT(*) FROM users GROUP BY * HAVING COUNT(*) > 1\n",
    "Q-3. How to remove duplicate rows from Employees table.\n",
    "A-3 > \n",
    "DELETE t1 FROM Employees t1  \n",
    "INNERJOIN Employees t2   \n",
    "WHERE  \n",
    "    t1.id < t2.id AND  \n",
    "    t1.email = t2.email;  \n",
    "\n",
    "\n"
   ]
  }
 ],
 "metadata": {
  "kernelspec": {
   "display_name": "Python 3",
   "language": "python",
   "name": "python3"
  },
  "language_info": {
   "codemirror_mode": {
    "name": "ipython",
    "version": 3
   },
   "file_extension": ".py",
   "mimetype": "text/x-python",
   "name": "python",
   "nbconvert_exporter": "python",
   "pygments_lexer": "ipython3",
   "version": "3.8.5"
  }
 },
 "nbformat": 4,
 "nbformat_minor": 4
}
