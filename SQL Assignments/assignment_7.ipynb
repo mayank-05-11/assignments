{
 "cells": [
  {
   "cell_type": "code",
   "execution_count": null,
   "metadata": {},
   "outputs": [],
   "source": [
    "Q-13. Write an SQL query to show only odd rows from a table.\n",
    "A-1 > \n",
    "SELECT t.First, t.Last\n",
    "FROM (\n",
    "    SELECT *, Row_Number() OVER(ORDER BY First, Last) AS RowNumber \n",
    "    FROM Table1\n",
    ") t\n",
    "WHERE t.RowNumber % 2 = 0 --Even\n",
    "\n",
    "Q-14. Write an SQL query to clone a new table from another table.\n",
    "A-2 > Create Table New_Table Select * From Orignal_Table\n"
   ]
  }
 ],
 "metadata": {
  "kernelspec": {
   "display_name": "Python 3",
   "language": "python",
   "name": "python3"
  },
  "language_info": {
   "codemirror_mode": {
    "name": "ipython",
    "version": 3
   },
   "file_extension": ".py",
   "mimetype": "text/x-python",
   "name": "python",
   "nbconvert_exporter": "python",
   "pygments_lexer": "ipython3",
   "version": "3.8.5"
  }
 },
 "nbformat": 4,
 "nbformat_minor": 4
}
