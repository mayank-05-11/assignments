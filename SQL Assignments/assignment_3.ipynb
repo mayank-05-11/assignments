{
 "cells": [
  {
   "cell_type": "code",
   "execution_count": null,
   "metadata": {},
   "outputs": [],
   "source": [
    "Q-1. Write an SQL query to print the FIRST_NAME from Worker table after removing white spaces from the right side.\n",
    "A-1 > Select RTRIM(FIRST_NAME) From Worker.\n",
    "Q-2. Write an SQL query that fetches the unique values of DEPARTMENT from Worker table and prints its length.\n",
    "A-2 >  Select Distinct DEPARTMENT , LENGTH(DEPARTMENT ) as Dept_Length from Worker\n",
    "Q-3. Write an SQL query to fetch nth max salaries from a table.\n",
    "A-3 > \n",
    "\tSELECT TOP 1 Salary FROM ( SELECT DISTINCT TOP nth Salary  FROM employee ORDER BY Salary DESC ) a ORDER BY salary\n",
    "\n",
    "\n",
    "\n"
   ]
  }
 ],
 "metadata": {
  "kernelspec": {
   "display_name": "Python 3",
   "language": "python",
   "name": "python3"
  },
  "language_info": {
   "codemirror_mode": {
    "name": "ipython",
    "version": 3
   },
   "file_extension": ".py",
   "mimetype": "text/x-python",
   "name": "python",
   "nbconvert_exporter": "python",
   "pygments_lexer": "ipython3",
   "version": "3.8.5"
  }
 },
 "nbformat": 4,
 "nbformat_minor": 4
}
