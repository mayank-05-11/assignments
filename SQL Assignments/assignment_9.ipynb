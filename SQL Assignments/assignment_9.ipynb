{
 "cells": [
  {
   "cell_type": "code",
   "execution_count": null,
   "metadata": {},
   "outputs": [],
   "source": [
    "Q-17.  Write an SQL query to show the top n (say 10) records of a table.\n",
    "A-1 > Select Top 10 * From Table\n",
    "\n",
    "Q-18. Write an SQL query to determine the nth (say n=5) highest salary from a table.\n",
    "A-2 > \n",
    "Declare @Salary as int , @HighSal as int\n",
    "Select Top 5 * into #temp From Employee\n",
    "Set @HighSal = (Select Max(Salary) From Employee)\n",
    "Set @Salary = (Select Top 1 From #temp order by desc)\n",
    "If @Salary = @HighSal\t\n",
    "Begin\n",
    "Print(“nth is the highest salary)\n",
    "End\n"
   ]
  }
 ],
 "metadata": {
  "kernelspec": {
   "display_name": "Python 3",
   "language": "python",
   "name": "python3"
  },
  "language_info": {
   "codemirror_mode": {
    "name": "ipython",
    "version": 3
   },
   "file_extension": ".py",
   "mimetype": "text/x-python",
   "name": "python",
   "nbconvert_exporter": "python",
   "pygments_lexer": "ipython3",
   "version": "3.8.5"
  }
 },
 "nbformat": 4,
 "nbformat_minor": 4
}
